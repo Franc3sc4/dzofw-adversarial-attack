{
 "cells": [
  {
   "cell_type": "markdown",
   "metadata": {
    "id": "HYxUhq_o-x6R"
   },
   "source": [
    "# LeNet 5\n",
    "\n"
   ]
  },
  {
   "cell_type": "code",
   "execution_count": 1,
   "metadata": {
    "colab": {
     "base_uri": "https://localhost:8080/"
    },
    "id": "dKesbu6sSaUH",
    "outputId": "41761cc9-9703-48d1-b11d-2376aa4bde26"
   },
   "outputs": [
    {
     "ename": "OSError",
     "evalue": "SavedModel file does not exist at: ./data/lenet5/{saved_model.pbtxt|saved_model.pb}",
     "output_type": "error",
     "traceback": [
      "\u001b[1;31m---------------------------------------------------------------------------\u001b[0m",
      "\u001b[1;31mOSError\u001b[0m                                   Traceback (most recent call last)",
      "\u001b[1;32m<ipython-input-1-f4966279c1b2>\u001b[0m in \u001b[0;36m<module>\u001b[1;34m\u001b[0m\n\u001b[0;32m      8\u001b[0m \u001b[0mpath\u001b[0m \u001b[1;33m=\u001b[0m \u001b[1;34m'./data/lenet5'\u001b[0m\u001b[1;33m\u001b[0m\u001b[1;33m\u001b[0m\u001b[0m\n\u001b[0;32m      9\u001b[0m \u001b[1;33m\u001b[0m\u001b[0m\n\u001b[1;32m---> 10\u001b[1;33m \u001b[0mlenet5\u001b[0m \u001b[1;33m=\u001b[0m \u001b[0mLeNet5\u001b[0m\u001b[1;33m(\u001b[0m\u001b[0mpath\u001b[0m\u001b[1;33m=\u001b[0m\u001b[0mpath\u001b[0m\u001b[1;33m,\u001b[0m \u001b[0mload\u001b[0m\u001b[1;33m=\u001b[0m\u001b[1;32mTrue\u001b[0m\u001b[1;33m)\u001b[0m\u001b[1;33m\u001b[0m\u001b[1;33m\u001b[0m\u001b[0m\n\u001b[0m\u001b[0;32m     11\u001b[0m \u001b[1;33m\u001b[0m\u001b[0m\n\u001b[0;32m     12\u001b[0m \u001b[0mepsilon\u001b[0m \u001b[1;33m=\u001b[0m \u001b[1;36m0.25\u001b[0m\u001b[1;33m\u001b[0m\u001b[1;33m\u001b[0m\u001b[0m\n",
      "\u001b[1;32m~\\Documents\\GitHub\\dzofw-adversarial-attack\\src\\lenet5.py\u001b[0m in \u001b[0;36m__init__\u001b[1;34m(self, path, load)\u001b[0m\n\u001b[0;32m      7\u001b[0m     \u001b[1;32mdef\u001b[0m \u001b[0m__init__\u001b[0m\u001b[1;33m(\u001b[0m\u001b[0mself\u001b[0m\u001b[1;33m,\u001b[0m \u001b[0mpath\u001b[0m\u001b[1;33m,\u001b[0m \u001b[0mload\u001b[0m\u001b[1;33m=\u001b[0m\u001b[1;32mTrue\u001b[0m\u001b[1;33m)\u001b[0m\u001b[1;33m:\u001b[0m\u001b[1;33m\u001b[0m\u001b[1;33m\u001b[0m\u001b[0m\n\u001b[0;32m      8\u001b[0m         \u001b[1;32mif\u001b[0m \u001b[0mload\u001b[0m\u001b[1;33m:\u001b[0m\u001b[1;33m\u001b[0m\u001b[1;33m\u001b[0m\u001b[0m\n\u001b[1;32m----> 9\u001b[1;33m             \u001b[0mself\u001b[0m\u001b[1;33m.\u001b[0m\u001b[0mload_model\u001b[0m\u001b[1;33m(\u001b[0m\u001b[0mpath\u001b[0m\u001b[1;33m)\u001b[0m\u001b[1;33m\u001b[0m\u001b[1;33m\u001b[0m\u001b[0m\n\u001b[0m\u001b[0;32m     10\u001b[0m         \u001b[1;32melse\u001b[0m\u001b[1;33m:\u001b[0m\u001b[1;33m\u001b[0m\u001b[1;33m\u001b[0m\u001b[0m\n\u001b[0;32m     11\u001b[0m             \u001b[0mself\u001b[0m\u001b[1;33m.\u001b[0m\u001b[0mcreate_model\u001b[0m\u001b[1;33m(\u001b[0m\u001b[0mpath\u001b[0m\u001b[1;33m)\u001b[0m\u001b[1;33m\u001b[0m\u001b[1;33m\u001b[0m\u001b[0m\n",
      "\u001b[1;32m~\\Documents\\GitHub\\dzofw-adversarial-attack\\src\\lenet5.py\u001b[0m in \u001b[0;36mload_model\u001b[1;34m(self, path)\u001b[0m\n\u001b[0;32m     40\u001b[0m \u001b[1;33m\u001b[0m\u001b[0m\n\u001b[0;32m     41\u001b[0m     \u001b[1;32mdef\u001b[0m \u001b[0mload_model\u001b[0m\u001b[1;33m(\u001b[0m\u001b[0mself\u001b[0m\u001b[1;33m,\u001b[0m \u001b[0mpath\u001b[0m\u001b[1;33m)\u001b[0m\u001b[1;33m:\u001b[0m\u001b[1;33m\u001b[0m\u001b[1;33m\u001b[0m\u001b[0m\n\u001b[1;32m---> 42\u001b[1;33m         \u001b[0mself\u001b[0m\u001b[1;33m.\u001b[0m\u001b[0mmodel\u001b[0m \u001b[1;33m=\u001b[0m \u001b[0mkeras\u001b[0m\u001b[1;33m.\u001b[0m\u001b[0mmodels\u001b[0m\u001b[1;33m.\u001b[0m\u001b[0mload_model\u001b[0m\u001b[1;33m(\u001b[0m\u001b[0mpath\u001b[0m\u001b[1;33m)\u001b[0m\u001b[1;33m\u001b[0m\u001b[1;33m\u001b[0m\u001b[0m\n\u001b[0m\u001b[0;32m     43\u001b[0m         \u001b[1;32mreturn\u001b[0m \u001b[0mself\u001b[0m\u001b[1;33m.\u001b[0m\u001b[0mmodel\u001b[0m\u001b[1;33m\u001b[0m\u001b[1;33m\u001b[0m\u001b[0m\n\u001b[0;32m     44\u001b[0m \u001b[1;33m\u001b[0m\u001b[0m\n",
      "\u001b[1;32m~\\anaconda3\\lib\\site-packages\\tensorflow\\python\\keras\\saving\\save.py\u001b[0m in \u001b[0;36mload_model\u001b[1;34m(filepath, custom_objects, compile, options)\u001b[0m\n\u001b[0;32m    209\u001b[0m       \u001b[0mfilepath\u001b[0m \u001b[1;33m=\u001b[0m \u001b[0mpath_to_string\u001b[0m\u001b[1;33m(\u001b[0m\u001b[0mfilepath\u001b[0m\u001b[1;33m)\u001b[0m\u001b[1;33m\u001b[0m\u001b[1;33m\u001b[0m\u001b[0m\n\u001b[0;32m    210\u001b[0m       \u001b[1;32mif\u001b[0m \u001b[0misinstance\u001b[0m\u001b[1;33m(\u001b[0m\u001b[0mfilepath\u001b[0m\u001b[1;33m,\u001b[0m \u001b[0msix\u001b[0m\u001b[1;33m.\u001b[0m\u001b[0mstring_types\u001b[0m\u001b[1;33m)\u001b[0m\u001b[1;33m:\u001b[0m\u001b[1;33m\u001b[0m\u001b[1;33m\u001b[0m\u001b[0m\n\u001b[1;32m--> 211\u001b[1;33m         \u001b[0mloader_impl\u001b[0m\u001b[1;33m.\u001b[0m\u001b[0mparse_saved_model\u001b[0m\u001b[1;33m(\u001b[0m\u001b[0mfilepath\u001b[0m\u001b[1;33m)\u001b[0m\u001b[1;33m\u001b[0m\u001b[1;33m\u001b[0m\u001b[0m\n\u001b[0m\u001b[0;32m    212\u001b[0m         \u001b[1;32mreturn\u001b[0m \u001b[0msaved_model_load\u001b[0m\u001b[1;33m.\u001b[0m\u001b[0mload\u001b[0m\u001b[1;33m(\u001b[0m\u001b[0mfilepath\u001b[0m\u001b[1;33m,\u001b[0m \u001b[0mcompile\u001b[0m\u001b[1;33m,\u001b[0m \u001b[0moptions\u001b[0m\u001b[1;33m)\u001b[0m\u001b[1;33m\u001b[0m\u001b[1;33m\u001b[0m\u001b[0m\n\u001b[0;32m    213\u001b[0m \u001b[1;33m\u001b[0m\u001b[0m\n",
      "\u001b[1;32m~\\anaconda3\\lib\\site-packages\\tensorflow\\python\\saved_model\\loader_impl.py\u001b[0m in \u001b[0;36mparse_saved_model\u001b[1;34m(export_dir)\u001b[0m\n\u001b[0;32m    109\u001b[0m       \u001b[1;32mraise\u001b[0m \u001b[0mIOError\u001b[0m\u001b[1;33m(\u001b[0m\u001b[1;34m\"Cannot parse file %s: %s.\"\u001b[0m \u001b[1;33m%\u001b[0m \u001b[1;33m(\u001b[0m\u001b[0mpath_to_pbtxt\u001b[0m\u001b[1;33m,\u001b[0m \u001b[0mstr\u001b[0m\u001b[1;33m(\u001b[0m\u001b[0me\u001b[0m\u001b[1;33m)\u001b[0m\u001b[1;33m)\u001b[0m\u001b[1;33m)\u001b[0m\u001b[1;33m\u001b[0m\u001b[1;33m\u001b[0m\u001b[0m\n\u001b[0;32m    110\u001b[0m   \u001b[1;32melse\u001b[0m\u001b[1;33m:\u001b[0m\u001b[1;33m\u001b[0m\u001b[1;33m\u001b[0m\u001b[0m\n\u001b[1;32m--> 111\u001b[1;33m     raise IOError(\"SavedModel file does not exist at: %s/{%s|%s}\" %\n\u001b[0m\u001b[0;32m    112\u001b[0m                   (export_dir,\n\u001b[0;32m    113\u001b[0m                    \u001b[0mconstants\u001b[0m\u001b[1;33m.\u001b[0m\u001b[0mSAVED_MODEL_FILENAME_PBTXT\u001b[0m\u001b[1;33m,\u001b[0m\u001b[1;33m\u001b[0m\u001b[1;33m\u001b[0m\u001b[0m\n",
      "\u001b[1;31mOSError\u001b[0m: SavedModel file does not exist at: ./data/lenet5/{saved_model.pbtxt|saved_model.pb}"
     ]
    }
   ],
   "source": [
    "from algorithms import *\n",
    "from lenet5 import *\n",
    "import numpy as np\n",
    "import matplotlib.pyplot as plt\n",
    "\n",
    "_, (test_x, test_y) = load_MNIST()\n",
    "\n",
    "path = './data/lenet5'\n",
    "\n",
    "lenet5 = LeNet5(path=path, load=True)\n",
    "\n",
    "epsilon = 0.25\n",
    "d = 28*28\n",
    "\n",
    "lab = lenet5.predict(test_x)\n",
    "indexes = lab == test_y\n",
    "data = test_x[indexes]\n",
    "labels = test_y[indexes]\n",
    "\n",
    "print(len(labels))  # 9826\n",
    "\n",
    "# M = num workers; we consider a number of workers <=10\n",
    "M = 10\n",
    "data_per_classes = []\n",
    "for label_class in range(0, 10):\n",
    "    data_per_classes.append(data[labels == label_class][:100])\n",
    "\n",
    "data_per_classes = np.array(data_per_classes)\n",
    "data_workers = []\n",
    "\n",
    "for offset in range(0, 100, M):\n",
    "    image_worker = []\n",
    "    for c in range(0, 10):\n",
    "        image_worker.extend(data_per_classes[c, offset:offset+M, :, :, :])\n",
    "    data_workers.append(image_worker)\n",
    "\n",
    "data_workers = np.array(data_workers)\n",
    "print(data_workers.shape)  # now all 10 workers have 100 images, 10 for each class.\n",
    "\n",
    "y = np.array([0, 1, 2, 3, 4, 5, 6, 7, 8, 9])\n",
    "y = np.repeat(y, 10)\n"
   ]
  },
  {
   "cell_type": "markdown",
   "metadata": {
    "id": "fItbKJZF-8Uf"
   },
   "source": [
    "# Universal Adversarial Attacks"
   ]
  },
  {
   "cell_type": "code",
   "execution_count": 4,
   "metadata": {
    "id": "CIaYXAe587na"
   },
   "outputs": [],
   "source": [
    "def plot_perturbation(perturbation, m):\n",
    "  fig, ax = plt.subplots(figsize=(12, 12))\n",
    "  img = plt.imshow(perturbation.reshape((28, 28)))\n",
    "  fig.colorbar(img, ax=ax, fraction=0.03, pad=0.05)\n",
    "  plt.savefig(f\"./perturbation_{m}\", bbox_inches=\"tight\")\n",
    "  plt.show()\n",
    "\n",
    "def plot_perturbated_img(perturbation, m):\n",
    "  image = test_x[5].numpy().reshape(28,28)\n",
    "  img_noise = image + perturbation.reshape((28, 28))\n",
    "  fig, ax = plt.subplots(1, 2,figsize=(5, 5))\n",
    "  a = ax[0].imshow(image, cmap='Greys')\n",
    "  b = ax[1].imshow(img_noise, cmap='Greys')\n",
    "  fig.colorbar(a, ax=ax[0], fraction=0.03, pad=0.05)\n",
    "  fig.colorbar(b, ax=ax[1], fraction=0.03, pad=0.05)\n",
    "  plt.savefig(f\"./image_perturbation_example_{m}\", bbox_inches=\"tight\")\n",
    "  plt.show()\n",
    "\n",
    "def plot_loss(loss_history, m):\n",
    "  plt.figure(figsize=(10,6))\n",
    "  plt.plot(m, loss_history[:, 0])\n",
    "  plt.title('loss')\n",
    "\n",
    "def plot_accuracy(loss_history, m):\n",
    "  plt.figure(figsize=(10,6))\n",
    "  plt.plot(m, loss_history[:, 1])\n",
    "  plt.title('accuracy')"
   ]
  },
  {
   "cell_type": "markdown",
   "metadata": {
    "id": "4DgC1UNjBFzk"
   },
   "source": [
    "## Decentralized Stochastic Gradient Free FW"
   ]
  },
  {
   "cell_type": "code",
   "execution_count": null,
   "metadata": {
    "colab": {
     "base_uri": "https://localhost:8080/",
     "height": 1000
    },
    "id": "3ikPGQa28oV0",
    "outputId": "a2525a0f-9260-49ce-ba3e-02e124d7f37f"
   },
   "outputs": [],
   "source": [
    "T = 20\n",
    "\n",
    "loss_history = []\n",
    "\n",
    "for m in range(5, 40, 5):\n",
    "  print (\"m = \", m)\n",
    "  delta = decentralized_stochastic_gradient_free_FW(data_workers, y, lenet5.negative_loss, m, T, M, epsilon, d)\n",
    "  np.save(f\"./data/perturbation_{m}\", delta[-1])\n",
    "\n",
    "  plot_perturbation(delta[-1], m)\n",
    "  plot_perturbated_img(delta[-1], m)\n",
    "\n",
    "  perturbation = np.tile(delta[-1], data.shape[0])\n",
    "  perturbation = perturbation.reshape((data.shape[0],28,28,1))\n",
    "  perturbated_data = data + perturbation\n",
    "  perturbated_data = np.clip(perturbated_data, 0., 1.)\n",
    "\n",
    "  loss = lenet5.model.evaluate(perturbated_data, labels)\n",
    "  loss_history.append(loss)\n"
   ]
  },
  {
   "cell_type": "code",
   "execution_count": null,
   "metadata": {
    "colab": {
     "base_uri": "https://localhost:8080/"
    },
    "id": "7GXp17w6Ly7o",
    "outputId": "c569a206-54b8-4de5-abd8-f6247beabeaf"
   },
   "outputs": [],
   "source": [
    "m=40\n",
    "delta = decentralized_stochastic_gradient_free_FW(data_workers, y, lenet5.negative_loss, m, T, M, epsilon, d)\n",
    "np.save(f\"./data/perturbation_{m}\", delta[-1])\n",
    "\n",
    "plot_perturbation(delta[-1], m)\n",
    "plot_perturbated_img(delta[-1], m)\n",
    "\n",
    "perturbation = np.tile(delta[-1], data.shape[0])\n",
    "perturbation = perturbation.reshape((data.shape[0],28,28,1))\n",
    "perturbated_data = data + perturbation\n",
    "perturbated_data = np.clip(perturbated_data, 0., 1.)\n",
    "\n",
    "loss = lenet5.model.evaluate(perturbated_data, labels)\n",
    "loss_history.append(loss)"
   ]
  },
  {
   "cell_type": "code",
   "execution_count": null,
   "metadata": {
    "colab": {
     "base_uri": "https://localhost:8080/",
     "height": 390
    },
    "id": "hQxDy71ORDll",
    "outputId": "3d05b212-39f2-4c3f-926a-40cff9b9fc98"
   },
   "outputs": [],
   "source": [
    "history = np.array(loss_history)\n",
    "m = [5, 10, 15, 20, 25, 30, 35]\n",
    "\n",
    "plot_accuracy(history, m)"
   ]
  },
  {
   "cell_type": "markdown",
   "metadata": {
    "id": "ByiDskq3_SeJ"
   },
   "source": [
    "# Tests"
   ]
  },
  {
   "cell_type": "code",
   "execution_count": null,
   "metadata": {
    "colab": {
     "base_uri": "https://localhost:8080/"
    },
    "id": "Rc-78K_ppslr",
    "outputId": "95ce2f87-ccd2-41c8-84b9-c2fa95345977"
   },
   "outputs": [],
   "source": [
    "m=35\n",
    "#np.save(f\"./data/perturbation_{m}\", delta[-1])\n",
    "delta = np.load(f\"./perturbations/perturbation_{m}.npy\")\n",
    "delta.shape"
   ]
  },
  {
   "cell_type": "code",
   "execution_count": null,
   "metadata": {},
   "outputs": [],
   "source": [
    "image = test_x[5].numpy().reshape(28,28)\n",
    "img_noise = image + delta.reshape((28, 28))\n",
    "print(lenet5.predict(np.array([img_noise.reshape(28, 28 ,1)])))"
   ]
  },
  {
   "cell_type": "code",
   "execution_count": null,
   "metadata": {
    "colab": {
     "base_uri": "https://localhost:8080/",
     "height": 247
    },
    "id": "wk6UYOHeSaUO",
    "outputId": "517580ae-3195-4a0e-b650-a641f62dfc6d"
   },
   "outputs": [],
   "source": [
    "image = test_x[5].numpy().reshape(28,28)\n",
    "delta_mean = np.mean(delta, axis=0)\n",
    "img_noise = image + delta_mean.reshape((28, 28))\n",
    "fig, ax = plt.subplots(1, 2,figsize=(5, 5))\n",
    "ax[0].imshow(image, cmap='Greys')\n",
    "ax[1].imshow(img_noise, cmap='Greys')\n",
    "plt.savefig(f\"./image_perturbation_example_{m}\", bbox_inches=\"tight\")\n",
    "plt.show()\n",
    "print(lenet5.predict(np.array([img_noise.reshape(28, 28 ,1)])))"
   ]
  },
  {
   "cell_type": "code",
   "execution_count": null,
   "metadata": {
    "id": "YJcXBagzf-aT"
   },
   "outputs": [],
   "source": [
    "perturbation = np.tile(delta[-1], data.shape[0])\n",
    "perturbation = perturbation.reshape((data.shape[0],28,28,1))\n",
    "perturbated_data = data + perturbation\n",
    "perturbated_data = np.clip(perturbated_data, 0., 1.)"
   ]
  },
  {
   "cell_type": "code",
   "execution_count": null,
   "metadata": {
    "colab": {
     "base_uri": "https://localhost:8080/"
    },
    "id": "UnC6UmvOoDlK",
    "outputId": "37d43caf-1e7b-4d6f-f452-4be0631d47ed"
   },
   "outputs": [],
   "source": [
    "lenet5.model.evaluate(perturbated_data, labels)"
   ]
  },
  {
   "cell_type": "code",
   "execution_count": null,
   "metadata": {
    "colab": {
     "base_uri": "https://localhost:8080/"
    },
    "id": "HsX-oJKvn6Ls",
    "outputId": "2e5344b9-a265-419a-d8e6-eb12cd16003c"
   },
   "outputs": [],
   "source": [
    "lenet5.model.evaluate(data, labels)"
   ]
  },
  {
   "cell_type": "code",
   "execution_count": 25,
   "metadata": {
    "colab": {
     "base_uri": "https://localhost:8080/"
    },
    "id": "rJ09-li6nkju",
    "outputId": "2d37f4e1-5c30-43bf-c95f-8c0a898f3045"
   },
   "outputs": [
    {
     "name": "stdout",
     "output_type": "stream",
     "text": [
      "308/308 [==============================] - 4s 12ms/step - loss: 0.0988 - accuracy: 0.9657\n"
     ]
    },
    {
     "data": {
      "text/plain": [
       "[0.09875811636447906, 0.9657032489776611]"
      ]
     },
     "execution_count": 25,
     "metadata": {},
     "output_type": "execute_result"
    }
   ],
   "source": [
    "# Gaussian noise\n",
    "gaussian_noise_data = data + np.random.normal(0, 0.2, data.shape)\n",
    "gaussian_noise_data = np.clip(gaussian_noise_data, 0., 1.)\n",
    "lenet5.model.evaluate(gaussian_noise_data, labels)"
   ]
  },
  {
   "cell_type": "code",
   "execution_count": null,
   "metadata": {
    "colab": {
     "base_uri": "https://localhost:8080/"
    },
    "id": "wqfksj5htgvg",
    "outputId": "c814a70d-8ada-4cf8-c6e4-25333e15a222"
   },
   "outputs": [],
   "source": [
    "gaussian_noise_data.shape"
   ]
  },
  {
   "cell_type": "code",
   "execution_count": 26,
   "metadata": {
    "colab": {
     "base_uri": "https://localhost:8080/",
     "height": 176
    },
    "id": "PPt0JIlzs6S6",
    "outputId": "9cfbd355-f709-459e-f6b0-68249f3ecedd"
   },
   "outputs": [
    {
     "data": {
      "image/png": "[encoded data removed]",
      "text/plain": [
       "<Figure size 360x360 with 2 Axes>"
      ]
     },
     "metadata": {
      "needs_background": "light"
     },
     "output_type": "display_data"
    }
   ],
   "source": [
    "gaussian_noise = np.random.normal(0, 0.2, (28,28))\n",
    "fig, ax = plt.subplots(1, 2,figsize=(5, 5))\n",
    "ax[0].imshow(image, cmap='Greys')\n",
    "ax[1].imshow(np.clip(image+gaussian_noise, 0.,1.), cmap='Greys')\n",
    "plt.savefig(f\"./gaussian_noise_{10000}\", bbox_inches=\"tight\")\n",
    "plt.show()\n"
   ]
  },
  {
   "cell_type": "markdown",
   "metadata": {},
   "source": [
    "# Decentralized Variance-Reduced Zeroth-Order FW"
   ]
  },
  {
   "cell_type": "code",
   "execution_count": 11,
   "metadata": {},
   "outputs": [],
   "source": [
    "images = data[:1000]\n",
    "targets = labels[:1000]\n",
    "n = 5\n",
    "S2 = 3\n",
    "q = 5\n",
    "S1 = len(images)\n",
    "M = 10\n",
    "T = 10\n",
    "epsilon = 0.25\n",
    "d = 784"
   ]
  },
  {
   "cell_type": "code",
   "execution_count": 18,
   "metadata": {},
   "outputs": [
    {
     "name": "stdout",
     "output_type": "stream",
     "text": [
      "308/308 [==============================] - 3s 11ms/step - loss: 0.5046 - accuracy: 0.8648\n"
     ]
    },
    {
     "data": {
      "image/png": "[encoded data removed]",
      "text/plain": [
       "<Figure size 864x864 with 2 Axes>"
      ]
     },
     "metadata": {
      "needs_background": "light"
     },
     "output_type": "display_data"
    },
    {
     "data": {
      "image/png": "[encoded data removed]",
      "text/plain": [
       "<Figure size 360x360 with 4 Axes>"
      ]
     },
     "metadata": {
      "needs_background": "light"
     },
     "output_type": "display_data"
    }
   ],
   "source": [
    "#delta = decentralized_variance_reduced_zo_FW(images, targets, lenet5.negative_loss, S2, T, M, n, epsilon, d, q, S1)\n",
    "#np.save(f\"./data/perturbation_variance\", delta[-1])\n",
    "delta = np.load(f\"./data/perturbation_variance.npy\")\n",
    "\n",
    "perturbation = np.tile(delta, data.shape[0])\n",
    "perturbation = perturbation.reshape((data.shape[0],28,28,1))\n",
    "perturbated_data = data + perturbation\n",
    "perturbated_data = np.clip(perturbated_data, 0., 1.)\n",
    "\n",
    "loss = lenet5.model.evaluate(perturbated_data, labels)\n",
    "plot_perturbation(delta, 10000)\n",
    "plot_perturbated_img(delta, 10000)\n",
    "#loss_history.append(loss)"
   ]
  },
  {
   "cell_type": "markdown",
   "metadata": {},
   "source": [
    "# Distributed Zeroth-Order FW"
   ]
  },
  {
   "cell_type": "code",
   "execution_count": 6,
   "metadata": {},
   "outputs": [
    {
     "name": "stdout",
     "output_type": "stream",
     "text": [
      "9826\n",
      "(10, 100, 28, 28, 1)\n",
      "308/308 [==============================] - 2s 6ms/step - loss: 1.6102 - accuracy: 0.7311\n",
      "308/308 [==============================] - 2s 6ms/step - loss: 1.6258 - accuracy: 0.7272\n",
      "308/308 [==============================] - 2s 6ms/step - loss: 1.6041 - accuracy: 0.7335\n",
      "308/308 [==============================] - 2s 6ms/step - loss: 1.4306 - accuracy: 0.7542\n",
      "308/308 [==============================] - 2s 6ms/step - loss: 1.7872 - accuracy: 0.7045\n",
      "308/308 [==============================] - 2s 6ms/step - loss: 1.7738 - accuracy: 0.7086\n",
      "308/308 [==============================] - 2s 6ms/step - loss: 1.6161 - accuracy: 0.7280\n",
      "308/308 [==============================] - 2s 6ms/step - loss: 1.6079 - accuracy: 0.7305\n",
      "308/308 [==============================] - 2s 6ms/step - loss: 1.7747 - accuracy: 0.7079\n",
      "308/308 [==============================] - 2s 6ms/step - loss: 1.6253 - accuracy: 0.7277\n"
     ]
    },
    {
     "data": {
      "image/png": "[encoded data removed]",
      "text/plain": [
       "<Figure size 864x864 with 2 Axes>"
      ]
     },
     "metadata": {
      "needs_background": "light"
     },
     "output_type": "display_data"
    },
    {
     "data": {
      "image/png": "[encoded data removed]",
      "text/plain": [
       "<Figure size 360x360 with 4 Axes>"
      ]
     },
     "metadata": {
      "needs_background": "light"
     },
     "output_type": "display_data"
    }
   ],
   "source": [
    "import utils\n",
    "data_workers, y, lenet5, test_x, test_y, data, labels = utils.get_data()\n",
    "\n",
    "T = 10\n",
    "m = 20\n",
    "\n",
    "delta_bar = np.load(f'../data/perturbations/distributed/distributed_delta_{T}_{m}.npy')\n",
    "loss = []\n",
    "for idx in range(delta_bar.shape[0]):\n",
    "    delta = delta_bar[idx]\n",
    "    perturbation = np.tile(delta, data.shape[0])\n",
    "    perturbation = perturbation.reshape((data.shape[0],28,28,1))\n",
    "    perturbated_data = data + perturbation\n",
    "    perturbated_data = np.clip(perturbated_data, 0., 1.)\n",
    "    loss.append(lenet5.model.evaluate(perturbated_data, labels)[0])\n",
    "loss = np.array(loss)\n",
    "delta_charming = delta_bar[np.argmax(loss)]\n",
    "\n",
    "plot_perturbation(delta_charming, m)\n",
    "plot_perturbated_img(delta_charming, m)"
   ]
  },
  {
   "cell_type": "code",
   "execution_count": 15,
   "metadata": {},
   "outputs": [
    {
     "name": "stdout",
     "output_type": "stream",
     "text": [
      "[8]\n"
     ]
    }
   ],
   "source": [
    "image = test_x[5].numpy().reshape(28,28)\n",
    "img_noise = image + delta_charming.reshape((28, 28))\n",
    "perturbated_data = np.clip(img_noise, 0., 1.)\n",
    "print(lenet5.predict(np.array([perturbated_data.reshape(28, 28 ,1)])))"
   ]
  },
  {
   "cell_type": "code",
   "execution_count": null,
   "metadata": {},
   "outputs": [],
   "source": []
  }
 ],
 "metadata": {
  "colab": {
   "collapsed_sections": [],
   "name": "perturbation_notebook.ipynb",
   "provenance": []
  },
  "kernelspec": {
   "display_name": "Python 3",
   "language": "python",
   "name": "python3"
  },
  "language_info": {
   "codemirror_mode": {
    "name": "ipython",
    "version": 3
   },
   "file_extension": ".py",
   "mimetype": "text/x-python",
   "name": "python",
   "nbconvert_exporter": "python",
   "pygments_lexer": "ipython3",
   "version": "3.8.5"
  }
 },
 "nbformat": 4,
 "nbformat_minor": 1
}
