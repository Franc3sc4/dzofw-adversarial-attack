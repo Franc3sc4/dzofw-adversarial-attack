{
  "nbformat": 4,
  "nbformat_minor": 0,
  "metadata": {
    "kernelspec": {
      "display_name": "Python 3",
      "language": "python",
      "name": "python3"
    },
    "language_info": {
      "codemirror_mode": {
        "name": "ipython",
        "version": 3
      },
      "file_extension": ".py",
      "mimetype": "text/x-python",
      "name": "python",
      "nbconvert_exporter": "python",
      "pygments_lexer": "ipython3",
      "version": "3.8.8"
    },
    "colab": {
      "name": "perturbation_notebook.ipynb",
      "provenance": [],
      "collapsed_sections": []
    }
  },
  "cells": [
    {
      "cell_type": "code",
      "metadata": {
        "colab": {
          "base_uri": "https://localhost:8080/",
          "height": 1000
        },
        "id": "dKesbu6sSaUH",
        "outputId": "50d6d9b7-7ee5-4026-8b2a-b7bde07483ca"
      },
      "source": [
        "from algorithms import *\n",
        "from lenet5 import *\n",
        "import numpy as np\n",
        "import matplotlib.pyplot as plt\n",
        "\n",
        "_, (test_x, test_y) = load_MNIST()\n",
        "\n",
        "path = './data/lenet5'\n",
        "\n",
        "lenet5 = LeNet5(path=path, load=True)\n",
        "\n",
        "epsilon = 0.25\n",
        "d = 28*28\n",
        "\n",
        "lab = lenet5.predict(test_x)\n",
        "indexes = lab == test_y\n",
        "data = test_x[indexes]\n",
        "labels = test_y[indexes]\n",
        "\n",
        "print(len(labels))  # 9826\n",
        "\n",
        "# M = num workers; we consider a number of workers <=10\n",
        "M = 10\n",
        "data_per_classes = []\n",
        "for label_class in range(0, 10):\n",
        "    data_per_classes.append(data[labels == label_class][:100])\n",
        "\n",
        "data_per_classes = np.array(data_per_classes)\n",
        "data_workers = []\n",
        "\n",
        "for offset in range(0, 100, M):\n",
        "    image_worker = []\n",
        "    for c in range(0, 10):\n",
        "        image_worker.extend(data_per_classes[c, offset:offset+M, :, :, :])\n",
        "    data_workers.append(image_worker)\n",
        "\n",
        "data_workers = np.array(data_workers)\n",
        "print(data_workers.shape)  # now all 10 workers have 100 images, 10 for each class.\n",
        "\n",
        "y = np.array([0, 1, 2, 3, 4, 5, 6, 7, 8, 9])\n",
        "y = np.repeat(y, 10)\n",
        "\n",
        "m = 10\n",
        "T = 20\n",
        "delta = decentralized_stochastic_gradient_free_FW(data_workers, y, lenet5.negative_loss, m, T, M, epsilon, d)\n",
        "\n",
        "fig, ax = plt.subplots(figsize=(12, 12))\n",
        "img = plt.imshow(delta[-1].reshape((28, 28)))\n",
        "fig.colorbar(img, ax=ax, fraction=0.03, pad=0.05)\n",
        "plt.savefig(f\"./perturbation_{m}\", bbox_inches=\"tight\")\n",
        "plt.show()"
      ],
      "execution_count": 1,
      "outputs": [
        {
          "output_type": "stream",
          "text": [
            "/usr/local/lib/python3.7/dist-packages/tensorflow/python/keras/engine/sequential.py:455: UserWarning: `model.predict_classes()` is deprecated and will be removed after 2021-01-01. Please use instead:* `np.argmax(model.predict(x), axis=-1)`,   if your model does multi-class classification   (e.g. if it uses a `softmax` last-layer activation).* `(model.predict(x) > 0.5).astype(\"int32\")`,   if your model does binary classification   (e.g. if it uses a `sigmoid` last-layer activation).\n",
            "  warnings.warn('`model.predict_classes()` is deprecated and '\n"
          ],
          "name": "stderr"
        },
        {
          "output_type": "stream",
          "text": [
            "9797\n",
            "(10, 100, 28, 28, 1)\n",
            "Iteration number  0\n",
            "Iteration number  1\n",
            "Iteration number  2\n",
            "Iteration number  3\n",
            "Iteration number  4\n",
            "Iteration number  5\n",
            "Iteration number  6\n",
            "Iteration number  7\n",
            "Iteration number  8\n",
            "Iteration number  9\n",
            "Iteration number  10\n",
            "Iteration number  11\n",
            "Iteration number  12\n",
            "Iteration number  13\n",
            "Iteration number  14\n",
            "Iteration number  15\n",
            "Iteration number  16\n",
            "Iteration number  17\n",
            "Iteration number  18\n",
            "Iteration number  19\n"
          ],
          "name": "stdout"
        },
        {
          "output_type": "display_data",
          "data": {
            "image/png": "[encoded data removed]",
            "text/plain": [
              "<Figure size 864x864 with 2 Axes>"
            ]
          },
          "metadata": {
            "tags": [],
            "needs_background": "light"
          }
        }
      ]
    },
    {
      "cell_type": "code",
      "metadata": {
        "colab": {
          "base_uri": "https://localhost:8080/"
        },
        "id": "Rc-78K_ppslr",
        "outputId": "95ce2f87-ccd2-41c8-84b9-c2fa95345977"
      },
      "source": [
        "np.save(f\"./data/perturbation_{m}\", delta[-1])\n",
        "loaded_delta = np.load(f\"./data/perturbation_{m}.npy\")\n",
        "loaded_delta.shape"
      ],
      "execution_count": 11,
      "outputs": [
        {
          "output_type": "execute_result",
          "data": {
            "text/plain": [
              "(784,)"
            ]
          },
          "metadata": {
            "tags": []
          },
          "execution_count": 11
        }
      ]
    },
    {
      "cell_type": "code",
      "metadata": {
        "colab": {
          "base_uri": "https://localhost:8080/",
          "height": 237
        },
        "id": "JCPfXziMSaUN",
        "outputId": "a4205608-571f-403e-a8e2-a54f91eed7bd"
      },
      "source": [
        "image = test_x[5].numpy().reshape(28,28)\n",
        "img_noise = image + delta[-1].reshape((28, 28))\n",
        "fig, ax = plt.subplots(1, 2,figsize=(5, 5))\n",
        "a = ax[0].imshow(image, cmap='Greys')\n",
        "b = ax[1].imshow(img_noise, cmap='Greys')\n",
        "fig.colorbar(a, ax=ax[0], fraction=0.03, pad=0.05)\n",
        "fig.colorbar(b, ax=ax[1], fraction=0.03, pad=0.05)\n",
        "\n",
        "plt.savefig(f\"./image_perturbation_example_{m}\", bbox_inches=\"tight\")\n",
        "plt.show()\n",
        "print(lenet5.predict(np.array([img_noise.reshape(28, 28 ,1)])))"
      ],
      "execution_count": 12,
      "outputs": [
        {
          "output_type": "display_data",
          "data": {
            "image/png": "[encoded data removed]",
            "text/plain": [
              "<Figure size 360x360 with 4 Axes>"
            ]
          },
          "metadata": {
            "tags": [],
            "needs_background": "light"
          }
        },
        {
          "output_type": "stream",
          "text": [
            "[8]\n"
          ],
          "name": "stdout"
        },
        {
          "output_type": "stream",
          "text": [
            "/usr/local/lib/python3.7/dist-packages/tensorflow/python/keras/engine/sequential.py:455: UserWarning: `model.predict_classes()` is deprecated and will be removed after 2021-01-01. Please use instead:* `np.argmax(model.predict(x), axis=-1)`,   if your model does multi-class classification   (e.g. if it uses a `softmax` last-layer activation).* `(model.predict(x) > 0.5).astype(\"int32\")`,   if your model does binary classification   (e.g. if it uses a `sigmoid` last-layer activation).\n",
            "  warnings.warn('`model.predict_classes()` is deprecated and '\n"
          ],
          "name": "stderr"
        }
      ]
    },
    {
      "cell_type": "code",
      "metadata": {
        "colab": {
          "base_uri": "https://localhost:8080/",
          "height": 247
        },
        "id": "wk6UYOHeSaUO",
        "outputId": "517580ae-3195-4a0e-b650-a641f62dfc6d"
      },
      "source": [
        "image = test_x[5].numpy().reshape(28,28)\n",
        "delta_mean = np.mean(delta, axis=0)\n",
        "img_noise = image + delta_mean.reshape((28, 28))\n",
        "fig, ax = plt.subplots(1, 2,figsize=(5, 5))\n",
        "ax[0].imshow(image, cmap='Greys')\n",
        "ax[1].imshow(img_noise, cmap='Greys')\n",
        "plt.savefig(f\"./image_perturbation_example_{m}\", bbox_inches=\"tight\")\n",
        "plt.show()\n",
        "print(lenet5.predict(np.array([img_noise.reshape(28, 28 ,1)])))"
      ],
      "execution_count": 13,
      "outputs": [
        {
          "output_type": "display_data",
          "data": {
            "image/png": "[encoded data removed]",
            "text/plain": [
              "<Figure size 360x360 with 2 Axes>"
            ]
          },
          "metadata": {
            "tags": [],
            "needs_background": "light"
          }
        },
        {
          "output_type": "stream",
          "text": [
            "[8]\n"
          ],
          "name": "stdout"
        },
        {
          "output_type": "stream",
          "text": [
            "/usr/local/lib/python3.7/dist-packages/tensorflow/python/keras/engine/sequential.py:455: UserWarning: `model.predict_classes()` is deprecated and will be removed after 2021-01-01. Please use instead:* `np.argmax(model.predict(x), axis=-1)`,   if your model does multi-class classification   (e.g. if it uses a `softmax` last-layer activation).* `(model.predict(x) > 0.5).astype(\"int32\")`,   if your model does binary classification   (e.g. if it uses a `sigmoid` last-layer activation).\n",
            "  warnings.warn('`model.predict_classes()` is deprecated and '\n"
          ],
          "name": "stderr"
        }
      ]
    },
    {
      "cell_type": "code",
      "metadata": {
        "id": "YJcXBagzf-aT"
      },
      "source": [
        "perturbation = np.tile(delta[-1], data.shape[0])\n",
        "perturbation = perturbation.reshape((data.shape[0],28,28,1))\n",
        "perturbated_data = data + perturbation\n",
        "perturbated_data = np.clip(perturbated_data, 0., 1.)"
      ],
      "execution_count": 22,
      "outputs": []
    },
    {
      "cell_type": "code",
      "metadata": {
        "colab": {
          "base_uri": "https://localhost:8080/"
        },
        "id": "UnC6UmvOoDlK",
        "outputId": "37d43caf-1e7b-4d6f-f452-4be0631d47ed"
      },
      "source": [
        "lenet5.model.evaluate(perturbated_data, labels)"
      ],
      "execution_count": 23,
      "outputs": [
        {
          "output_type": "stream",
          "text": [
            "307/307 [==============================] - 3s 10ms/step - loss: 2.3129 - accuracy: 0.6238\n"
          ],
          "name": "stdout"
        },
        {
          "output_type": "execute_result",
          "data": {
            "text/plain": [
              "[2.312938928604126, 0.6237623691558838]"
            ]
          },
          "metadata": {
            "tags": []
          },
          "execution_count": 23
        }
      ]
    },
    {
      "cell_type": "code",
      "metadata": {
        "colab": {
          "base_uri": "https://localhost:8080/"
        },
        "id": "HsX-oJKvn6Ls",
        "outputId": "2e5344b9-a265-419a-d8e6-eb12cd16003c"
      },
      "source": [
        "lenet5.model.evaluate(data, labels)"
      ],
      "execution_count": 16,
      "outputs": [
        {
          "output_type": "stream",
          "text": [
            "307/307 [==============================] - 3s 10ms/step - loss: 0.0113 - accuracy: 1.0000\n"
          ],
          "name": "stdout"
        },
        {
          "output_type": "execute_result",
          "data": {
            "text/plain": [
              "[0.011310586705803871, 1.0]"
            ]
          },
          "metadata": {
            "tags": []
          },
          "execution_count": 16
        }
      ]
    },
    {
      "cell_type": "code",
      "metadata": {
        "colab": {
          "base_uri": "https://localhost:8080/"
        },
        "id": "rJ09-li6nkju",
        "outputId": "2d37f4e1-5c30-43bf-c95f-8c0a898f3045"
      },
      "source": [
        "gaussian_noise_data = data + np.random.normal(0, 0.3, data.shape)\n",
        "gaussian_noise_data = np.clip(gaussian_noise_data, 0., 1.)\n",
        "lenet5.model.evaluate(gaussian_noise_data, labels)"
      ],
      "execution_count": 30,
      "outputs": [
        {
          "output_type": "stream",
          "text": [
            "307/307 [==============================] - 3s 10ms/step - loss: 1.0043 - accuracy: 0.8067\n"
          ],
          "name": "stdout"
        },
        {
          "output_type": "execute_result",
          "data": {
            "text/plain": [
              "[1.004286766052246, 0.8066754937171936]"
            ]
          },
          "metadata": {
            "tags": []
          },
          "execution_count": 30
        }
      ]
    },
    {
      "cell_type": "code",
      "metadata": {
        "colab": {
          "base_uri": "https://localhost:8080/"
        },
        "id": "wqfksj5htgvg",
        "outputId": "c814a70d-8ada-4cf8-c6e4-25333e15a222"
      },
      "source": [
        "gaussian_noise_data.shape"
      ],
      "execution_count": 25,
      "outputs": [
        {
          "output_type": "execute_result",
          "data": {
            "text/plain": [
              "(9797, 28, 28, 1)"
            ]
          },
          "metadata": {
            "tags": []
          },
          "execution_count": 25
        }
      ]
    },
    {
      "cell_type": "code",
      "metadata": {
        "colab": {
          "base_uri": "https://localhost:8080/",
          "height": 176
        },
        "id": "PPt0JIlzs6S6",
        "outputId": "9cfbd355-f709-459e-f6b0-68249f3ecedd"
      },
      "source": [
        "gaussian_noise = np.random.normal(0, 0.3, (28,28))\n",
        "fig, ax = plt.subplots(1, 2,figsize=(5, 5))\n",
        "ax[0].imshow(image, cmap='Greys')\n",
        "ax[1].imshow(np.clip(image+gaussian_noise, 0.,1.), cmap='Greys')\n",
        "plt.savefig(f\"./gaussian_noise_{m}\", bbox_inches=\"tight\")\n",
        "plt.show()\n"
      ],
      "execution_count": 31,
      "outputs": [
        {
          "output_type": "display_data",
          "data": {
            "image/png": "[encoded data removed]",
            "text/plain": [
              "<Figure size 360x360 with 2 Axes>"
            ]
          },
          "metadata": {
            "tags": [],
            "needs_background": "light"
          }
        }
      ]
    }
  ]
}