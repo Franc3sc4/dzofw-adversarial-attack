{
 "cells": [
  {
   "cell_type": "markdown",
   "metadata": {
    "id": "HYxUhq_o-x6R"
   },
   "source": [
    "# LeNet 5\n",
    "\n"
   ]
  },
  {
   "cell_type": "code",
   "execution_count": null,
   "metadata": {
    "colab": {
     "base_uri": "https://localhost:8080/"
    },
    "id": "dKesbu6sSaUH",
    "outputId": "41761cc9-9703-48d1-b11d-2376aa4bde26"
   },
   "outputs": [],
   "source": [
    "from algorithms import *\n",
    "from lenet5 import *\n",
    "import numpy as np\n",
    "import matplotlib.pyplot as plt\n",
    "\n",
    "_, (test_x, test_y) = load_MNIST()\n",
    "\n",
    "path = './data/lenet5'\n",
    "\n",
    "lenet5 = LeNet5(path=path, load=True)\n",
    "\n",
    "epsilon = 0.25\n",
    "d = 28*28\n",
    "\n",
    "lab = lenet5.predict(test_x)\n",
    "indexes = lab == test_y\n",
    "data = test_x[indexes]\n",
    "labels = test_y[indexes]\n",
    "\n",
    "print(len(labels))  # 9826\n",
    "\n",
    "# M = num workers; we consider a number of workers <=10\n",
    "M = 10\n",
    "data_per_classes = []\n",
    "for label_class in range(0, 10):\n",
    "    data_per_classes.append(data[labels == label_class][:100])\n",
    "\n",
    "data_per_classes = np.array(data_per_classes)\n",
    "data_workers = []\n",
    "\n",
    "for offset in range(0, 100, M):\n",
    "    image_worker = []\n",
    "    for c in range(0, 10):\n",
    "        image_worker.extend(data_per_classes[c, offset:offset+M, :, :, :])\n",
    "    data_workers.append(image_worker)\n",
    "\n",
    "data_workers = np.array(data_workers)\n",
    "print(data_workers.shape)  # now all 10 workers have 100 images, 10 for each class.\n",
    "\n",
    "y = np.array([0, 1, 2, 3, 4, 5, 6, 7, 8, 9])\n",
    "y = np.repeat(y, 10)\n"
   ]
  },
  {
   "cell_type": "markdown",
   "metadata": {
    "id": "fItbKJZF-8Uf"
   },
   "source": [
    "# Universal Adversarial Attacks"
   ]
  },
  {
   "cell_type": "code",
   "execution_count": null,
   "metadata": {
    "id": "CIaYXAe587na"
   },
   "outputs": [],
   "source": [
    "def plot_perturbation(perturbation, m):\n",
    "  fig, ax = plt.subplots(figsize=(12, 12))\n",
    "  img = plt.imshow(perturbation.reshape((28, 28)))\n",
    "  fig.colorbar(img, ax=ax, fraction=0.03, pad=0.05)\n",
    "  plt.savefig(f\"./perturbation_{m}\", bbox_inches=\"tight\")\n",
    "  plt.show()\n",
    "\n",
    "def plot_perturbated_img(perturbation, m):\n",
    "  image = test_x[5].numpy().reshape(28,28)\n",
    "  img_noise = image + perturbation.reshape((28, 28))\n",
    "  fig, ax = plt.subplots(1, 2,figsize=(5, 5))\n",
    "  a = ax[0].imshow(image, cmap='Greys')\n",
    "  b = ax[1].imshow(img_noise, cmap='Greys')\n",
    "  fig.colorbar(a, ax=ax[0], fraction=0.03, pad=0.05)\n",
    "  fig.colorbar(b, ax=ax[1], fraction=0.03, pad=0.05)\n",
    "  plt.savefig(f\"./image_perturbation_example_{m}\", bbox_inches=\"tight\")\n",
    "  plt.show()\n",
    "\n",
    "def plot_loss(loss_history, m):\n",
    "  plt.figure(figsize=(10,6))\n",
    "  plt.plot(m, loss_history[:, 0])\n",
    "  plt.title('loss')\n",
    "\n",
    "def plot_accuracy(loss_history, m):\n",
    "  plt.figure(figsize=(10,6))\n",
    "  plt.plot(m, loss_history[:, 1])\n",
    "  plt.title('accuracy')"
   ]
  },
  {
   "cell_type": "markdown",
   "metadata": {
    "id": "4DgC1UNjBFzk"
   },
   "source": [
    "## Decentralized Stochastic Gradient Free FW"
   ]
  },
  {
   "cell_type": "code",
   "execution_count": null,
   "metadata": {
    "colab": {
     "base_uri": "https://localhost:8080/",
     "height": 1000
    },
    "id": "3ikPGQa28oV0",
    "outputId": "a2525a0f-9260-49ce-ba3e-02e124d7f37f"
   },
   "outputs": [],
   "source": [
    "T = 20\n",
    "\n",
    "loss_history = []\n",
    "\n",
    "for m in range(5, 40, 5):\n",
    "  print (\"m = \", m)\n",
    "  delta = decentralized_stochastic_gradient_free_FW(data_workers, y, lenet5.negative_loss, m, T, M, epsilon, d)\n",
    "  np.save(f\"./data/perturbation_{m}\", delta[-1])\n",
    "\n",
    "  plot_perturbation(delta[-1], m)\n",
    "  plot_perturbated_img(delta[-1], m)\n",
    "\n",
    "  perturbation = np.tile(delta[-1], data.shape[0])\n",
    "  perturbation = perturbation.reshape((data.shape[0],28,28,1))\n",
    "  perturbated_data = data + perturbation\n",
    "  perturbated_data = np.clip(perturbated_data, 0., 1.)\n",
    "\n",
    "  loss = lenet5.model.evaluate(perturbated_data, labels)\n",
    "  loss_history.append(loss)\n"
   ]
  },
  {
   "cell_type": "code",
   "execution_count": null,
   "metadata": {
    "colab": {
     "base_uri": "https://localhost:8080/"
    },
    "id": "7GXp17w6Ly7o",
    "outputId": "c569a206-54b8-4de5-abd8-f6247beabeaf"
   },
   "outputs": [],
   "source": [
    "m=40\n",
    "delta = decentralized_stochastic_gradient_free_FW(data_workers, y, lenet5.negative_loss, m, T, M, epsilon, d)\n",
    "np.save(f\"./data/perturbation_{m}\", delta[-1])\n",
    "\n",
    "plot_perturbation(delta[-1], m)\n",
    "plot_perturbated_img(delta[-1], m)\n",
    "\n",
    "perturbation = np.tile(delta[-1], data.shape[0])\n",
    "perturbation = perturbation.reshape((data.shape[0],28,28,1))\n",
    "perturbated_data = data + perturbation\n",
    "perturbated_data = np.clip(perturbated_data, 0., 1.)\n",
    "\n",
    "loss = lenet5.model.evaluate(perturbated_data, labels)\n",
    "loss_history.append(loss)"
   ]
  },
  {
   "cell_type": "code",
   "execution_count": null,
   "metadata": {
    "colab": {
     "base_uri": "https://localhost:8080/",
     "height": 390
    },
    "id": "hQxDy71ORDll",
    "outputId": "3d05b212-39f2-4c3f-926a-40cff9b9fc98"
   },
   "outputs": [],
   "source": [
    "history = np.array(loss_history)\n",
    "m = [5, 10, 15, 20, 25, 30, 35]\n",
    "\n",
    "plot_accuracy(history, m)"
   ]
  },
  {
   "cell_type": "markdown",
   "metadata": {
    "id": "ByiDskq3_SeJ"
   },
   "source": [
    "# Tests"
   ]
  },
  {
   "cell_type": "code",
   "execution_count": null,
   "metadata": {
    "colab": {
     "base_uri": "https://localhost:8080/"
    },
    "id": "Rc-78K_ppslr",
    "outputId": "95ce2f87-ccd2-41c8-84b9-c2fa95345977"
   },
   "outputs": [],
   "source": [
    "m=35\n",
    "#np.save(f\"./data/perturbation_{m}\", delta[-1])\n",
    "delta = np.load(f\"./perturbations/perturbation_{m}.npy\")\n",
    "delta.shape"
   ]
  },
  {
   "cell_type": "code",
   "execution_count": null,
   "metadata": {},
   "outputs": [],
   "source": [
    "image = test_x[5].numpy().reshape(28,28)\n",
    "img_noise = image + delta.reshape((28, 28))\n",
    "print(lenet5.predict(np.array([img_noise.reshape(28, 28 ,1)])))"
   ]
  },
  {
   "cell_type": "code",
   "execution_count": null,
   "metadata": {
    "colab": {
     "base_uri": "https://localhost:8080/",
     "height": 247
    },
    "id": "wk6UYOHeSaUO",
    "outputId": "517580ae-3195-4a0e-b650-a641f62dfc6d"
   },
   "outputs": [],
   "source": [
    "image = test_x[5].numpy().reshape(28,28)\n",
    "delta_mean = np.mean(delta, axis=0)\n",
    "img_noise = image + delta_mean.reshape((28, 28))\n",
    "fig, ax = plt.subplots(1, 2,figsize=(5, 5))\n",
    "ax[0].imshow(image, cmap='Greys')\n",
    "ax[1].imshow(img_noise, cmap='Greys')\n",
    "plt.savefig(f\"./image_perturbation_example_{m}\", bbox_inches=\"tight\")\n",
    "plt.show()\n",
    "print(lenet5.predict(np.array([img_noise.reshape(28, 28 ,1)])))"
   ]
  },
  {
   "cell_type": "code",
   "execution_count": null,
   "metadata": {
    "id": "YJcXBagzf-aT"
   },
   "outputs": [],
   "source": [
    "perturbation = np.tile(delta[-1], data.shape[0])\n",
    "perturbation = perturbation.reshape((data.shape[0],28,28,1))\n",
    "perturbated_data = data + perturbation\n",
    "perturbated_data = np.clip(perturbated_data, 0., 1.)"
   ]
  },
  {
   "cell_type": "code",
   "execution_count": null,
   "metadata": {
    "colab": {
     "base_uri": "https://localhost:8080/"
    },
    "id": "UnC6UmvOoDlK",
    "outputId": "37d43caf-1e7b-4d6f-f452-4be0631d47ed"
   },
   "outputs": [],
   "source": [
    "lenet5.model.evaluate(perturbated_data, labels)"
   ]
  },
  {
   "cell_type": "code",
   "execution_count": null,
   "metadata": {
    "colab": {
     "base_uri": "https://localhost:8080/"
    },
    "id": "HsX-oJKvn6Ls",
    "outputId": "2e5344b9-a265-419a-d8e6-eb12cd16003c"
   },
   "outputs": [],
   "source": [
    "lenet5.model.evaluate(data, labels)"
   ]
  },
  {
   "cell_type": "code",
   "execution_count": null,
   "metadata": {
    "colab": {
     "base_uri": "https://localhost:8080/"
    },
    "id": "rJ09-li6nkju",
    "outputId": "2d37f4e1-5c30-43bf-c95f-8c0a898f3045"
   },
   "outputs": [],
   "source": [
    "# Gaussian noise\n",
    "gaussian_noise_data = data + np.random.normal(0, 0.3, data.shape)\n",
    "gaussian_noise_data = np.clip(gaussian_noise_data, 0., 1.)\n",
    "lenet5.model.evaluate(gaussian_noise_data, labels)"
   ]
  },
  {
   "cell_type": "code",
   "execution_count": null,
   "metadata": {
    "colab": {
     "base_uri": "https://localhost:8080/"
    },
    "id": "wqfksj5htgvg",
    "outputId": "c814a70d-8ada-4cf8-c6e4-25333e15a222"
   },
   "outputs": [],
   "source": [
    "gaussian_noise_data.shape"
   ]
  },
  {
   "cell_type": "code",
   "execution_count": null,
   "metadata": {
    "colab": {
     "base_uri": "https://localhost:8080/",
     "height": 176
    },
    "id": "PPt0JIlzs6S6",
    "outputId": "9cfbd355-f709-459e-f6b0-68249f3ecedd"
   },
   "outputs": [],
   "source": [
    "gaussian_noise = np.random.normal(0, 0.3, (28,28))\n",
    "fig, ax = plt.subplots(1, 2,figsize=(5, 5))\n",
    "ax[0].imshow(image, cmap='Greys')\n",
    "ax[1].imshow(np.clip(image+gaussian_noise, 0.,1.), cmap='Greys')\n",
    "plt.savefig(f\"./gaussian_noise_{m}\", bbox_inches=\"tight\")\n",
    "plt.show()\n"
   ]
  },
  {
   "cell_type": "markdown",
   "metadata": {},
   "source": [
    "# Decentralized Variance-Reduced Zeroth-Order FW"
   ]
  },
  {
   "cell_type": "code",
   "execution_count": null,
   "metadata": {},
   "outputs": [],
   "source": [
    "images = data[:1000]\n",
    "targets = labels[:1000]\n",
    "n = 5\n",
    "S2 = 3\n",
    "q = 5\n",
    "S1 = len(images)\n",
    "M = 10\n",
    "T = 10\n",
    "epsilon = 0.25\n",
    "d = 784"
   ]
  },
  {
   "cell_type": "code",
   "execution_count": null,
   "metadata": {},
   "outputs": [],
   "source": [
    "delta = decentralized_variance_reduced_zo_FW(images, targets, lenet5.negative_loss, S2, T, M, n, epsilon, d, q, S1)\n",
    "np.save(f\"./data/perturbation_variance\", delta[-1])\n",
    "\n",
    "perturbation = np.tile(delta[-1], data.shape[0])\n",
    "perturbation = perturbation.reshape((data.shape[0],28,28,1))\n",
    "perturbated_data = data + perturbation\n",
    "perturbated_data = np.clip(perturbated_data, 0., 1.)\n",
    "\n",
    "loss = lenet5.model.evaluate(perturbated_data, labels)\n",
    "loss_history.append(loss)"
   ]
  },
  {
   "cell_type": "code",
   "execution_count": null,
   "metadata": {},
   "outputs": [],
   "source": []
  }
 ],
 "metadata": {
  "colab": {
   "collapsed_sections": [],
   "name": "perturbation_notebook.ipynb",
   "provenance": []
  },
  "kernelspec": {
   "display_name": "Python 3",
   "language": "python",
   "name": "python3"
  },
  "language_info": {
   "codemirror_mode": {
    "name": "ipython",
    "version": 3
   },
   "file_extension": ".py",
   "mimetype": "text/x-python",
   "name": "python",
   "nbconvert_exporter": "python",
   "pygments_lexer": "ipython3",
   "version": "3.8.8"
  }
 },
 "nbformat": 4,
 "nbformat_minor": 1
}
